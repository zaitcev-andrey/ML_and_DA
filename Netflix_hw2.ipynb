{
 "cells": [
  {
   "cell_type": "code",
   "execution_count": 1,
   "id": "1bfc6f73",
   "metadata": {},
   "outputs": [],
   "source": [
    "import numpy as np\n",
    "import matplotlib.pyplot as plt\n",
    "%matplotlib inline \n",
    "import pandas as pd\n",
    "import seaborn as sns\n",
    "import sklearn\n",
    "from sklearn.metrics import accuracy_score, confusion_matrix, ConfusionMatrixDisplay"
   ]
  },
  {
   "cell_type": "markdown",
   "id": "530e2d71",
   "metadata": {},
   "source": [
    "## 1. Загрузка и чтение данных"
   ]
  },
  {
   "cell_type": "code",
   "execution_count": 2,
   "id": "74c4da9c",
   "metadata": {},
   "outputs": [
    {
     "data": {
      "text/plain": [
       "(15480, 29)"
      ]
     },
     "execution_count": 2,
     "metadata": {},
     "output_type": "execute_result"
    }
   ],
   "source": [
    "url = \"https://raw.githubusercontent.com/zaitcev-andrey/ML_and_DA/homework1/netflix-rotten-tomatoes-metacritic-imdb.csv\"\n",
    "data_raw = pd.read_csv(url)\n",
    "data_raw.shape"
   ]
  },
  {
   "cell_type": "code",
   "execution_count": 3,
   "id": "67e917ae",
   "metadata": {},
   "outputs": [],
   "source": [
    "# уберём запятые и знаки доллара для того, чтобы функция describe() ниже смогла обработать этот столбец, так как она работает\n",
    "# с числовыми данными\n",
    "data_raw[\"Boxoffice\"] = data_raw[\"Boxoffice\"].apply(lambda v: float(str(v).replace(\",\", \"\").replace(\"$\", \"\")))\n",
    "data_raw[\"binary_boxoffice\"] = np.where(data_raw[\"Boxoffice\"] >= 1000000, 1, 0) # заменим 1 все суммы, которые >= 1000000, а 0 все остальные\n",
    "# избавляемся от ненужных признаков\n",
    "data_raw.drop(['Netflix Link', 'IMDb Link', 'Summary', 'Image', 'Poster', 'TMDb Trailer', 'Trailer Site'], axis=1, inplace = True)"
   ]
  },
  {
   "cell_type": "code",
   "execution_count": 4,
   "id": "47189370",
   "metadata": {},
   "outputs": [
    {
     "data": {
      "text/plain": [
       "(15480, 23)"
      ]
     },
     "execution_count": 4,
     "metadata": {},
     "output_type": "execute_result"
    }
   ],
   "source": [
    "data_raw.shape"
   ]
  },
  {
   "cell_type": "markdown",
   "id": "11b6f786",
   "metadata": {},
   "source": [
    "Признаки:  \n",
    "Title - Название фильма или сериала  \n",
    "Genre - Жанр  \n",
    "Tags - Частые теги по жанрам  \n",
    "Languages - Языки  \n",
    "Series or Movie - Сериалы или фильмы  \n",
    "Hidden Gem Score - Низкое количество отзывов и высокий рейтинг  \n",
    "Country Availability - Доступность в стране  \n",
    "Runtime - Длительность по времени фильма или серии  \n",
    "Director - Режисёр  \n",
    "Writer - Сценарист  \n",
    "Actors - Актеры, появляющиеся в фильмах или сериалах  \n",
    "View Rating - Система оценки фильмов Ассоциации кинематографистов  \n",
    "IMDb Score - Оценка от IMDb  \n",
    "Rotten Tomatoes Score - Оценка от Rotten Tomatoes  \n",
    "Metacritic Score - Оценка от Metacritic  \n",
    "Awards Received - Количество полученных наград (Оскар, Золотой глобус и др.)  \n",
    "Awards Nominated For - Номинация в получении награды (Оскара, Золотого глобуса и др.)  \n",
    "Boxoffice - Кассовые сборы  \n",
    "Release Date - Дата выхода фильма или сериала  \n",
    "Netflix Release Date - Дата выхода фильма или сериала на Нетфликс  \n",
    "Production House - Кампании производители фильмов или сериалов  \n",
    "IMDb Votes - Голоса от IMDb  \n",
    "binary_boxoffice - бинарные кассовые сборы (1, если сборы больше >= 1000000, и 0, если <)"
   ]
  },
  {
   "cell_type": "code",
   "execution_count": 5,
   "id": "fa745d2c",
   "metadata": {},
   "outputs": [],
   "source": [
    "# Преобразуем следующие типы к категорильным\n",
    "data_raw['Series or Movie'] = data_raw['Series or Movie'].astype('category')\n",
    "data_raw['Runtime'] = data_raw['Runtime'].astype('category')"
   ]
  },
  {
   "cell_type": "markdown",
   "id": "5fb1cdfd",
   "metadata": {},
   "source": [
    "## 2. Обработка пропущенных значений"
   ]
  },
  {
   "cell_type": "code",
   "execution_count": 6,
   "id": "57154e0f",
   "metadata": {},
   "outputs": [
    {
     "data": {
      "text/html": [
       "<div>\n",
       "<style scoped>\n",
       "    .dataframe tbody tr th:only-of-type {\n",
       "        vertical-align: middle;\n",
       "    }\n",
       "\n",
       "    .dataframe tbody tr th {\n",
       "        vertical-align: top;\n",
       "    }\n",
       "\n",
       "    .dataframe thead th {\n",
       "        text-align: right;\n",
       "    }\n",
       "</style>\n",
       "<table border=\"1\" class=\"dataframe\">\n",
       "  <thead>\n",
       "    <tr style=\"text-align: right;\">\n",
       "      <th></th>\n",
       "      <th>Title</th>\n",
       "      <th>Genre</th>\n",
       "      <th>Tags</th>\n",
       "      <th>Languages</th>\n",
       "      <th>Series or Movie</th>\n",
       "      <th>Hidden Gem Score</th>\n",
       "      <th>Country Availability</th>\n",
       "      <th>Runtime</th>\n",
       "      <th>Director</th>\n",
       "      <th>Writer</th>\n",
       "      <th>...</th>\n",
       "      <th>Rotten Tomatoes Score</th>\n",
       "      <th>Metacritic Score</th>\n",
       "      <th>Awards Received</th>\n",
       "      <th>Awards Nominated For</th>\n",
       "      <th>Boxoffice</th>\n",
       "      <th>Release Date</th>\n",
       "      <th>Netflix Release Date</th>\n",
       "      <th>Production House</th>\n",
       "      <th>IMDb Votes</th>\n",
       "      <th>binary_boxoffice</th>\n",
       "    </tr>\n",
       "  </thead>\n",
       "  <tbody>\n",
       "    <tr>\n",
       "      <th>0</th>\n",
       "      <td>False</td>\n",
       "      <td>False</td>\n",
       "      <td>False</td>\n",
       "      <td>False</td>\n",
       "      <td>False</td>\n",
       "      <td>False</td>\n",
       "      <td>False</td>\n",
       "      <td>False</td>\n",
       "      <td>False</td>\n",
       "      <td>False</td>\n",
       "      <td>...</td>\n",
       "      <td>False</td>\n",
       "      <td>False</td>\n",
       "      <td>False</td>\n",
       "      <td>False</td>\n",
       "      <td>False</td>\n",
       "      <td>False</td>\n",
       "      <td>False</td>\n",
       "      <td>False</td>\n",
       "      <td>False</td>\n",
       "      <td>False</td>\n",
       "    </tr>\n",
       "    <tr>\n",
       "      <th>1</th>\n",
       "      <td>False</td>\n",
       "      <td>False</td>\n",
       "      <td>False</td>\n",
       "      <td>False</td>\n",
       "      <td>False</td>\n",
       "      <td>False</td>\n",
       "      <td>False</td>\n",
       "      <td>False</td>\n",
       "      <td>False</td>\n",
       "      <td>False</td>\n",
       "      <td>...</td>\n",
       "      <td>False</td>\n",
       "      <td>False</td>\n",
       "      <td>False</td>\n",
       "      <td>True</td>\n",
       "      <td>False</td>\n",
       "      <td>False</td>\n",
       "      <td>False</td>\n",
       "      <td>False</td>\n",
       "      <td>False</td>\n",
       "      <td>False</td>\n",
       "    </tr>\n",
       "    <tr>\n",
       "      <th>2</th>\n",
       "      <td>False</td>\n",
       "      <td>False</td>\n",
       "      <td>False</td>\n",
       "      <td>False</td>\n",
       "      <td>False</td>\n",
       "      <td>False</td>\n",
       "      <td>False</td>\n",
       "      <td>False</td>\n",
       "      <td>False</td>\n",
       "      <td>False</td>\n",
       "      <td>...</td>\n",
       "      <td>True</td>\n",
       "      <td>False</td>\n",
       "      <td>True</td>\n",
       "      <td>True</td>\n",
       "      <td>False</td>\n",
       "      <td>False</td>\n",
       "      <td>False</td>\n",
       "      <td>True</td>\n",
       "      <td>False</td>\n",
       "      <td>False</td>\n",
       "    </tr>\n",
       "    <tr>\n",
       "      <th>3</th>\n",
       "      <td>False</td>\n",
       "      <td>False</td>\n",
       "      <td>False</td>\n",
       "      <td>False</td>\n",
       "      <td>False</td>\n",
       "      <td>False</td>\n",
       "      <td>False</td>\n",
       "      <td>False</td>\n",
       "      <td>True</td>\n",
       "      <td>True</td>\n",
       "      <td>...</td>\n",
       "      <td>True</td>\n",
       "      <td>True</td>\n",
       "      <td>False</td>\n",
       "      <td>True</td>\n",
       "      <td>True</td>\n",
       "      <td>False</td>\n",
       "      <td>False</td>\n",
       "      <td>True</td>\n",
       "      <td>False</td>\n",
       "      <td>False</td>\n",
       "    </tr>\n",
       "    <tr>\n",
       "      <th>4</th>\n",
       "      <td>False</td>\n",
       "      <td>False</td>\n",
       "      <td>False</td>\n",
       "      <td>False</td>\n",
       "      <td>False</td>\n",
       "      <td>False</td>\n",
       "      <td>False</td>\n",
       "      <td>False</td>\n",
       "      <td>False</td>\n",
       "      <td>True</td>\n",
       "      <td>...</td>\n",
       "      <td>True</td>\n",
       "      <td>True</td>\n",
       "      <td>True</td>\n",
       "      <td>False</td>\n",
       "      <td>True</td>\n",
       "      <td>False</td>\n",
       "      <td>False</td>\n",
       "      <td>True</td>\n",
       "      <td>False</td>\n",
       "      <td>False</td>\n",
       "    </tr>\n",
       "    <tr>\n",
       "      <th>...</th>\n",
       "      <td>...</td>\n",
       "      <td>...</td>\n",
       "      <td>...</td>\n",
       "      <td>...</td>\n",
       "      <td>...</td>\n",
       "      <td>...</td>\n",
       "      <td>...</td>\n",
       "      <td>...</td>\n",
       "      <td>...</td>\n",
       "      <td>...</td>\n",
       "      <td>...</td>\n",
       "      <td>...</td>\n",
       "      <td>...</td>\n",
       "      <td>...</td>\n",
       "      <td>...</td>\n",
       "      <td>...</td>\n",
       "      <td>...</td>\n",
       "      <td>...</td>\n",
       "      <td>...</td>\n",
       "      <td>...</td>\n",
       "      <td>...</td>\n",
       "    </tr>\n",
       "    <tr>\n",
       "      <th>15475</th>\n",
       "      <td>False</td>\n",
       "      <td>True</td>\n",
       "      <td>False</td>\n",
       "      <td>True</td>\n",
       "      <td>False</td>\n",
       "      <td>True</td>\n",
       "      <td>False</td>\n",
       "      <td>False</td>\n",
       "      <td>True</td>\n",
       "      <td>True</td>\n",
       "      <td>...</td>\n",
       "      <td>True</td>\n",
       "      <td>True</td>\n",
       "      <td>True</td>\n",
       "      <td>True</td>\n",
       "      <td>True</td>\n",
       "      <td>True</td>\n",
       "      <td>False</td>\n",
       "      <td>True</td>\n",
       "      <td>True</td>\n",
       "      <td>False</td>\n",
       "    </tr>\n",
       "    <tr>\n",
       "      <th>15476</th>\n",
       "      <td>False</td>\n",
       "      <td>True</td>\n",
       "      <td>False</td>\n",
       "      <td>True</td>\n",
       "      <td>False</td>\n",
       "      <td>True</td>\n",
       "      <td>False</td>\n",
       "      <td>False</td>\n",
       "      <td>True</td>\n",
       "      <td>True</td>\n",
       "      <td>...</td>\n",
       "      <td>True</td>\n",
       "      <td>True</td>\n",
       "      <td>True</td>\n",
       "      <td>True</td>\n",
       "      <td>True</td>\n",
       "      <td>True</td>\n",
       "      <td>False</td>\n",
       "      <td>True</td>\n",
       "      <td>True</td>\n",
       "      <td>False</td>\n",
       "    </tr>\n",
       "    <tr>\n",
       "      <th>15477</th>\n",
       "      <td>False</td>\n",
       "      <td>False</td>\n",
       "      <td>False</td>\n",
       "      <td>False</td>\n",
       "      <td>False</td>\n",
       "      <td>False</td>\n",
       "      <td>False</td>\n",
       "      <td>False</td>\n",
       "      <td>True</td>\n",
       "      <td>True</td>\n",
       "      <td>...</td>\n",
       "      <td>True</td>\n",
       "      <td>True</td>\n",
       "      <td>True</td>\n",
       "      <td>True</td>\n",
       "      <td>True</td>\n",
       "      <td>True</td>\n",
       "      <td>False</td>\n",
       "      <td>True</td>\n",
       "      <td>False</td>\n",
       "      <td>False</td>\n",
       "    </tr>\n",
       "    <tr>\n",
       "      <th>15478</th>\n",
       "      <td>False</td>\n",
       "      <td>False</td>\n",
       "      <td>False</td>\n",
       "      <td>False</td>\n",
       "      <td>False</td>\n",
       "      <td>False</td>\n",
       "      <td>False</td>\n",
       "      <td>False</td>\n",
       "      <td>True</td>\n",
       "      <td>True</td>\n",
       "      <td>...</td>\n",
       "      <td>True</td>\n",
       "      <td>True</td>\n",
       "      <td>True</td>\n",
       "      <td>True</td>\n",
       "      <td>True</td>\n",
       "      <td>True</td>\n",
       "      <td>False</td>\n",
       "      <td>False</td>\n",
       "      <td>False</td>\n",
       "      <td>False</td>\n",
       "    </tr>\n",
       "    <tr>\n",
       "      <th>15479</th>\n",
       "      <td>False</td>\n",
       "      <td>False</td>\n",
       "      <td>False</td>\n",
       "      <td>False</td>\n",
       "      <td>False</td>\n",
       "      <td>False</td>\n",
       "      <td>False</td>\n",
       "      <td>False</td>\n",
       "      <td>True</td>\n",
       "      <td>True</td>\n",
       "      <td>...</td>\n",
       "      <td>True</td>\n",
       "      <td>True</td>\n",
       "      <td>True</td>\n",
       "      <td>True</td>\n",
       "      <td>True</td>\n",
       "      <td>True</td>\n",
       "      <td>False</td>\n",
       "      <td>True</td>\n",
       "      <td>False</td>\n",
       "      <td>False</td>\n",
       "    </tr>\n",
       "  </tbody>\n",
       "</table>\n",
       "<p>15480 rows × 23 columns</p>\n",
       "</div>"
      ],
      "text/plain": [
       "       Title  Genre   Tags  Languages  Series or Movie  Hidden Gem Score  \\\n",
       "0      False  False  False      False            False             False   \n",
       "1      False  False  False      False            False             False   \n",
       "2      False  False  False      False            False             False   \n",
       "3      False  False  False      False            False             False   \n",
       "4      False  False  False      False            False             False   \n",
       "...      ...    ...    ...        ...              ...               ...   \n",
       "15475  False   True  False       True            False              True   \n",
       "15476  False   True  False       True            False              True   \n",
       "15477  False  False  False      False            False             False   \n",
       "15478  False  False  False      False            False             False   \n",
       "15479  False  False  False      False            False             False   \n",
       "\n",
       "       Country Availability  Runtime  Director  Writer  ...  \\\n",
       "0                     False    False     False   False  ...   \n",
       "1                     False    False     False   False  ...   \n",
       "2                     False    False     False   False  ...   \n",
       "3                     False    False      True    True  ...   \n",
       "4                     False    False     False    True  ...   \n",
       "...                     ...      ...       ...     ...  ...   \n",
       "15475                 False    False      True    True  ...   \n",
       "15476                 False    False      True    True  ...   \n",
       "15477                 False    False      True    True  ...   \n",
       "15478                 False    False      True    True  ...   \n",
       "15479                 False    False      True    True  ...   \n",
       "\n",
       "       Rotten Tomatoes Score  Metacritic Score  Awards Received  \\\n",
       "0                      False             False            False   \n",
       "1                      False             False            False   \n",
       "2                       True             False             True   \n",
       "3                       True              True            False   \n",
       "4                       True              True             True   \n",
       "...                      ...               ...              ...   \n",
       "15475                   True              True             True   \n",
       "15476                   True              True             True   \n",
       "15477                   True              True             True   \n",
       "15478                   True              True             True   \n",
       "15479                   True              True             True   \n",
       "\n",
       "       Awards Nominated For  Boxoffice  Release Date  Netflix Release Date  \\\n",
       "0                     False      False         False                 False   \n",
       "1                      True      False         False                 False   \n",
       "2                      True      False         False                 False   \n",
       "3                      True       True         False                 False   \n",
       "4                     False       True         False                 False   \n",
       "...                     ...        ...           ...                   ...   \n",
       "15475                  True       True          True                 False   \n",
       "15476                  True       True          True                 False   \n",
       "15477                  True       True          True                 False   \n",
       "15478                  True       True          True                 False   \n",
       "15479                  True       True          True                 False   \n",
       "\n",
       "       Production House  IMDb Votes  binary_boxoffice  \n",
       "0                 False       False             False  \n",
       "1                 False       False             False  \n",
       "2                  True       False             False  \n",
       "3                  True       False             False  \n",
       "4                  True       False             False  \n",
       "...                 ...         ...               ...  \n",
       "15475              True        True             False  \n",
       "15476              True        True             False  \n",
       "15477              True       False             False  \n",
       "15478             False       False             False  \n",
       "15479              True       False             False  \n",
       "\n",
       "[15480 rows x 23 columns]"
      ]
     },
     "execution_count": 6,
     "metadata": {},
     "output_type": "execute_result"
    }
   ],
   "source": [
    "# Эта функция заменит в таблице значения с Nan на True, а все остальные значения на False\n",
    "data_raw.isna()"
   ]
  },
  {
   "cell_type": "code",
   "execution_count": 7,
   "id": "2c010ced",
   "metadata": {},
   "outputs": [
    {
     "data": {
      "text/plain": [
       "Title                        0\n",
       "Genre                     1710\n",
       "Tags                        67\n",
       "Languages                 1935\n",
       "Series or Movie              0\n",
       "Hidden Gem Score          2101\n",
       "Country Availability        19\n",
       "Runtime                      1\n",
       "Director                  4708\n",
       "Writer                    4330\n",
       "Actors                    1925\n",
       "View Rating               7024\n",
       "IMDb Score                2099\n",
       "Rotten Tomatoes Score     9098\n",
       "Metacritic Score         11144\n",
       "Awards Received           9405\n",
       "Awards Nominated For      7819\n",
       "Boxoffice                11473\n",
       "Release Date              2107\n",
       "Netflix Release Date         0\n",
       "Production House         10331\n",
       "IMDb Votes                2101\n",
       "binary_boxoffice             0\n",
       "dtype: int64"
      ]
     },
     "execution_count": 7,
     "metadata": {},
     "output_type": "execute_result"
    }
   ],
   "source": [
    "# Покажем сколько пропусков есть в каждом признаке(столбце)\n",
    "data_raw.isna().sum()"
   ]
  },
  {
   "cell_type": "code",
   "execution_count": 8,
   "id": "e7b90b41",
   "metadata": {},
   "outputs": [],
   "source": [
    "# Заполним медианами пропущенные значения в столбцах (поэтому axis = 0), соответствующих числовым признакам\n",
    "data_raw.fillna(data_raw.median(axis = 0), axis=0 , inplace=True)"
   ]
  },
  {
   "cell_type": "code",
   "execution_count": 9,
   "id": "1e3569a8",
   "metadata": {},
   "outputs": [
    {
     "data": {
      "text/plain": [
       "Title                        0\n",
       "Genre                     1710\n",
       "Tags                        67\n",
       "Languages                 1935\n",
       "Series or Movie              0\n",
       "Hidden Gem Score             0\n",
       "Country Availability        19\n",
       "Runtime                      1\n",
       "Director                  4708\n",
       "Writer                    4330\n",
       "Actors                    1925\n",
       "View Rating               7024\n",
       "IMDb Score                   0\n",
       "Rotten Tomatoes Score        0\n",
       "Metacritic Score             0\n",
       "Awards Received              0\n",
       "Awards Nominated For         0\n",
       "Boxoffice                    0\n",
       "Release Date              2107\n",
       "Netflix Release Date         0\n",
       "Production House         10331\n",
       "IMDb Votes                   0\n",
       "binary_boxoffice             0\n",
       "dtype: int64"
      ]
     },
     "execution_count": 9,
     "metadata": {},
     "output_type": "execute_result"
    }
   ],
   "source": [
    "data_raw.isna().sum()"
   ]
  },
  {
   "cell_type": "code",
   "execution_count": 10,
   "id": "b391bdf9",
   "metadata": {},
   "outputs": [],
   "source": [
    "# Пропущенные значения в столбцах, соответствующих категориальным признакам, заполним модой:\n",
    "data_raw['Genre'].fillna(data_raw['Genre'].mode().iloc[0], inplace=True)\n",
    "data_raw['Tags'].fillna(data_raw['Tags'].mode().iloc[0], inplace=True)\n",
    "data_raw['Languages'].fillna(data_raw['Languages'].mode().iloc[0], inplace=True)\n",
    "data_raw['Country Availability'].fillna(data_raw['Country Availability'].mode().iloc[0], inplace=True)\n",
    "data_raw['Runtime'].fillna(data_raw['Runtime'].mode().iloc[0], inplace=True)\n",
    "data_raw['Director'].fillna(data_raw['Director'].mode().iloc[0], inplace=True)\n",
    "data_raw['Writer'].fillna(data_raw['Writer'].mode().iloc[0], inplace=True)\n",
    "data_raw['Actors'].fillna(data_raw['Actors'].mode().iloc[0], inplace=True)\n",
    "data_raw['View Rating'].fillna(data_raw['View Rating'].mode().iloc[0], inplace=True)\n",
    "data_raw['Release Date'].fillna(data_raw['Release Date'].mode().iloc[0], inplace=True)\n",
    "data_raw['Production House'].fillna(data_raw['Production House'].mode().iloc[0], inplace=True)"
   ]
  },
  {
   "cell_type": "code",
   "execution_count": 11,
   "id": "abbefdb6",
   "metadata": {},
   "outputs": [
    {
     "data": {
      "text/plain": [
       "Title                    0\n",
       "Genre                    0\n",
       "Tags                     0\n",
       "Languages                0\n",
       "Series or Movie          0\n",
       "Hidden Gem Score         0\n",
       "Country Availability     0\n",
       "Runtime                  0\n",
       "Director                 0\n",
       "Writer                   0\n",
       "Actors                   0\n",
       "View Rating              0\n",
       "IMDb Score               0\n",
       "Rotten Tomatoes Score    0\n",
       "Metacritic Score         0\n",
       "Awards Received          0\n",
       "Awards Nominated For     0\n",
       "Boxoffice                0\n",
       "Release Date             0\n",
       "Netflix Release Date     0\n",
       "Production House         0\n",
       "IMDb Votes               0\n",
       "binary_boxoffice         0\n",
       "dtype: int64"
      ]
     },
     "execution_count": 11,
     "metadata": {},
     "output_type": "execute_result"
    }
   ],
   "source": [
    "# Убеждаемся, что теперь пропусков нет\n",
    "data_raw.isna().sum()"
   ]
  },
  {
   "cell_type": "code",
   "execution_count": 12,
   "id": "48333cd8",
   "metadata": {},
   "outputs": [
    {
     "data": {
      "text/html": [
       "<div>\n",
       "<style scoped>\n",
       "    .dataframe tbody tr th:only-of-type {\n",
       "        vertical-align: middle;\n",
       "    }\n",
       "\n",
       "    .dataframe tbody tr th {\n",
       "        vertical-align: top;\n",
       "    }\n",
       "\n",
       "    .dataframe thead th {\n",
       "        text-align: right;\n",
       "    }\n",
       "</style>\n",
       "<table border=\"1\" class=\"dataframe\">\n",
       "  <thead>\n",
       "    <tr style=\"text-align: right;\">\n",
       "      <th></th>\n",
       "      <th>Title</th>\n",
       "      <th>Genre</th>\n",
       "      <th>Tags</th>\n",
       "      <th>Languages</th>\n",
       "      <th>Series or Movie</th>\n",
       "      <th>Hidden Gem Score</th>\n",
       "      <th>Country Availability</th>\n",
       "      <th>Runtime</th>\n",
       "      <th>Director</th>\n",
       "      <th>Writer</th>\n",
       "      <th>...</th>\n",
       "      <th>Rotten Tomatoes Score</th>\n",
       "      <th>Metacritic Score</th>\n",
       "      <th>Awards Received</th>\n",
       "      <th>Awards Nominated For</th>\n",
       "      <th>Boxoffice</th>\n",
       "      <th>Release Date</th>\n",
       "      <th>Netflix Release Date</th>\n",
       "      <th>Production House</th>\n",
       "      <th>IMDb Votes</th>\n",
       "      <th>binary_boxoffice</th>\n",
       "    </tr>\n",
       "  </thead>\n",
       "  <tbody>\n",
       "    <tr>\n",
       "      <th>0</th>\n",
       "      <td>Lets Fight Ghost</td>\n",
       "      <td>Crime, Drama, Fantasy, Horror, Romance</td>\n",
       "      <td>Comedy Programmes,Romantic TV Comedies,Horror ...</td>\n",
       "      <td>Swedish, Spanish</td>\n",
       "      <td>Series</td>\n",
       "      <td>4.3</td>\n",
       "      <td>Thailand</td>\n",
       "      <td>&lt; 30 minutes</td>\n",
       "      <td>Tomas Alfredson</td>\n",
       "      <td>John Ajvide Lindqvist</td>\n",
       "      <td>...</td>\n",
       "      <td>98.0</td>\n",
       "      <td>82.0</td>\n",
       "      <td>74.0</td>\n",
       "      <td>57.0</td>\n",
       "      <td>2122065.0</td>\n",
       "      <td>12 Dec 2008</td>\n",
       "      <td>2021-03-04</td>\n",
       "      <td>Canal+, Sandrew Metronome</td>\n",
       "      <td>205926.0</td>\n",
       "      <td>1</td>\n",
       "    </tr>\n",
       "    <tr>\n",
       "      <th>1</th>\n",
       "      <td>HOW TO BUILD A GIRL</td>\n",
       "      <td>Comedy</td>\n",
       "      <td>Dramas,Comedies,Films Based on Books,British</td>\n",
       "      <td>English</td>\n",
       "      <td>Movie</td>\n",
       "      <td>7.0</td>\n",
       "      <td>Canada</td>\n",
       "      <td>1-2 hour</td>\n",
       "      <td>Coky Giedroyc</td>\n",
       "      <td>Caitlin Moran</td>\n",
       "      <td>...</td>\n",
       "      <td>79.0</td>\n",
       "      <td>69.0</td>\n",
       "      <td>1.0</td>\n",
       "      <td>5.0</td>\n",
       "      <td>70632.0</td>\n",
       "      <td>08 May 2020</td>\n",
       "      <td>2021-03-04</td>\n",
       "      <td>Film 4, Monumental Pictures, Lionsgate</td>\n",
       "      <td>2838.0</td>\n",
       "      <td>0</td>\n",
       "    </tr>\n",
       "    <tr>\n",
       "      <th>2</th>\n",
       "      <td>Centigrade</td>\n",
       "      <td>Drama, Thriller</td>\n",
       "      <td>Thrillers</td>\n",
       "      <td>English</td>\n",
       "      <td>Movie</td>\n",
       "      <td>6.4</td>\n",
       "      <td>Canada</td>\n",
       "      <td>1-2 hour</td>\n",
       "      <td>Brendan Walsh</td>\n",
       "      <td>Brendan Walsh, Daley Nixon</td>\n",
       "      <td>...</td>\n",
       "      <td>64.0</td>\n",
       "      <td>46.0</td>\n",
       "      <td>3.0</td>\n",
       "      <td>5.0</td>\n",
       "      <td>16263.0</td>\n",
       "      <td>28 Aug 2020</td>\n",
       "      <td>2021-03-04</td>\n",
       "      <td>Netflix</td>\n",
       "      <td>1720.0</td>\n",
       "      <td>0</td>\n",
       "    </tr>\n",
       "    <tr>\n",
       "      <th>3</th>\n",
       "      <td>ANNE+</td>\n",
       "      <td>Drama</td>\n",
       "      <td>TV Dramas,Romantic TV Dramas,Dutch TV Shows</td>\n",
       "      <td>Turkish</td>\n",
       "      <td>Series</td>\n",
       "      <td>7.7</td>\n",
       "      <td>Belgium,Netherlands</td>\n",
       "      <td>&lt; 30 minutes</td>\n",
       "      <td>Steven Spielberg</td>\n",
       "      <td>Fujio F. Fujiko</td>\n",
       "      <td>...</td>\n",
       "      <td>64.0</td>\n",
       "      <td>57.0</td>\n",
       "      <td>1.0</td>\n",
       "      <td>5.0</td>\n",
       "      <td>19551067.0</td>\n",
       "      <td>01 Oct 2016</td>\n",
       "      <td>2021-03-04</td>\n",
       "      <td>Netflix</td>\n",
       "      <td>1147.0</td>\n",
       "      <td>0</td>\n",
       "    </tr>\n",
       "    <tr>\n",
       "      <th>4</th>\n",
       "      <td>Moxie</td>\n",
       "      <td>Animation, Short, Drama</td>\n",
       "      <td>Social Issue Dramas,Teen Movies,Dramas,Comedie...</td>\n",
       "      <td>English</td>\n",
       "      <td>Movie</td>\n",
       "      <td>8.1</td>\n",
       "      <td>Lithuania,Poland,France,Iceland,Italy,Spain,Gr...</td>\n",
       "      <td>1-2 hour</td>\n",
       "      <td>Stephen Irwin</td>\n",
       "      <td>Fujio F. Fujiko</td>\n",
       "      <td>...</td>\n",
       "      <td>64.0</td>\n",
       "      <td>57.0</td>\n",
       "      <td>3.0</td>\n",
       "      <td>4.0</td>\n",
       "      <td>19551067.0</td>\n",
       "      <td>22 Sep 2011</td>\n",
       "      <td>2021-03-04</td>\n",
       "      <td>Netflix</td>\n",
       "      <td>63.0</td>\n",
       "      <td>0</td>\n",
       "    </tr>\n",
       "  </tbody>\n",
       "</table>\n",
       "<p>5 rows × 23 columns</p>\n",
       "</div>"
      ],
      "text/plain": [
       "                 Title                                   Genre  \\\n",
       "0     Lets Fight Ghost  Crime, Drama, Fantasy, Horror, Romance   \n",
       "1  HOW TO BUILD A GIRL                                  Comedy   \n",
       "2           Centigrade                         Drama, Thriller   \n",
       "3                ANNE+                                   Drama   \n",
       "4                Moxie                 Animation, Short, Drama   \n",
       "\n",
       "                                                Tags         Languages  \\\n",
       "0  Comedy Programmes,Romantic TV Comedies,Horror ...  Swedish, Spanish   \n",
       "1       Dramas,Comedies,Films Based on Books,British           English   \n",
       "2                                          Thrillers           English   \n",
       "3        TV Dramas,Romantic TV Dramas,Dutch TV Shows           Turkish   \n",
       "4  Social Issue Dramas,Teen Movies,Dramas,Comedie...           English   \n",
       "\n",
       "  Series or Movie  Hidden Gem Score  \\\n",
       "0          Series               4.3   \n",
       "1           Movie               7.0   \n",
       "2           Movie               6.4   \n",
       "3          Series               7.7   \n",
       "4           Movie               8.1   \n",
       "\n",
       "                                Country Availability       Runtime  \\\n",
       "0                                           Thailand  < 30 minutes   \n",
       "1                                             Canada      1-2 hour   \n",
       "2                                             Canada      1-2 hour   \n",
       "3                                Belgium,Netherlands  < 30 minutes   \n",
       "4  Lithuania,Poland,France,Iceland,Italy,Spain,Gr...      1-2 hour   \n",
       "\n",
       "           Director                      Writer  ... Rotten Tomatoes Score  \\\n",
       "0   Tomas Alfredson       John Ajvide Lindqvist  ...                  98.0   \n",
       "1     Coky Giedroyc               Caitlin Moran  ...                  79.0   \n",
       "2     Brendan Walsh  Brendan Walsh, Daley Nixon  ...                  64.0   \n",
       "3  Steven Spielberg             Fujio F. Fujiko  ...                  64.0   \n",
       "4     Stephen Irwin             Fujio F. Fujiko  ...                  64.0   \n",
       "\n",
       "  Metacritic Score  Awards Received  Awards Nominated For   Boxoffice  \\\n",
       "0             82.0             74.0                  57.0   2122065.0   \n",
       "1             69.0              1.0                   5.0     70632.0   \n",
       "2             46.0              3.0                   5.0     16263.0   \n",
       "3             57.0              1.0                   5.0  19551067.0   \n",
       "4             57.0              3.0                   4.0  19551067.0   \n",
       "\n",
       "   Release Date  Netflix Release Date                        Production House  \\\n",
       "0   12 Dec 2008            2021-03-04               Canal+, Sandrew Metronome   \n",
       "1   08 May 2020            2021-03-04  Film 4, Monumental Pictures, Lionsgate   \n",
       "2   28 Aug 2020            2021-03-04                                 Netflix   \n",
       "3   01 Oct 2016            2021-03-04                                 Netflix   \n",
       "4   22 Sep 2011            2021-03-04                                 Netflix   \n",
       "\n",
       "  IMDb Votes binary_boxoffice  \n",
       "0   205926.0                1  \n",
       "1     2838.0                0  \n",
       "2     1720.0                0  \n",
       "3     1147.0                0  \n",
       "4       63.0                0  \n",
       "\n",
       "[5 rows x 23 columns]"
      ]
     },
     "execution_count": 12,
     "metadata": {},
     "output_type": "execute_result"
    }
   ],
   "source": [
    "data_raw.head()"
   ]
  },
  {
   "cell_type": "markdown",
   "id": "3f794bbf",
   "metadata": {},
   "source": [
    "## 3. Подготовка данных"
   ]
  },
  {
   "cell_type": "code",
   "execution_count": 13,
   "id": "ed8b2b31",
   "metadata": {},
   "outputs": [],
   "source": [
    "# Отберём подтаблицу с самыми нужными признаками и далее будем работать с ней\n",
    "data_new = data_raw.loc[:, ['Title', 'Series or Movie', 'Hidden Gem Score', 'Runtime', 'IMDb Score',\n",
    "                            'Rotten Tomatoes Score', 'Metacritic Score', 'Awards Received', 'Awards Nominated For',\n",
    "                           'Boxoffice', 'Netflix Release Date', 'IMDb Votes', 'binary_boxoffice']].copy()"
   ]
  },
  {
   "cell_type": "code",
   "execution_count": 14,
   "id": "67d281b9",
   "metadata": {},
   "outputs": [],
   "source": [
    "# Категориальный (Бинарный) признак 'Series or Movie' заменим на числовой.\n",
    "data_new['Series or Movie'] = pd.factorize(data_new['Series or Movie'])[0] # 0 - series, 1 - movie"
   ]
  },
  {
   "cell_type": "code",
   "execution_count": 15,
   "id": "096be31b",
   "metadata": {},
   "outputs": [],
   "source": [
    "# К категориальному (небинарному) признаку 'Runtime' применим метод бинаризации (one-hot encoding)\n",
    "Runtime_dummies = pd.get_dummies(data_new['Runtime'])"
   ]
  },
  {
   "cell_type": "code",
   "execution_count": 16,
   "id": "a17f4784",
   "metadata": {},
   "outputs": [],
   "source": [
    "# Добавим эти dummy-столбцы к таблице и удалим столбец Runtime:\n",
    "data_new = pd.concat((data_new, Runtime_dummies), axis=1)\n",
    "data_new = data_new.drop(['Runtime'], axis=1)"
   ]
  },
  {
   "cell_type": "code",
   "execution_count": 17,
   "id": "ce0f3d3e",
   "metadata": {},
   "outputs": [
    {
     "data": {
      "text/html": [
       "<div>\n",
       "<style scoped>\n",
       "    .dataframe tbody tr th:only-of-type {\n",
       "        vertical-align: middle;\n",
       "    }\n",
       "\n",
       "    .dataframe tbody tr th {\n",
       "        vertical-align: top;\n",
       "    }\n",
       "\n",
       "    .dataframe thead th {\n",
       "        text-align: right;\n",
       "    }\n",
       "</style>\n",
       "<table border=\"1\" class=\"dataframe\">\n",
       "  <thead>\n",
       "    <tr style=\"text-align: right;\">\n",
       "      <th></th>\n",
       "      <th>Title</th>\n",
       "      <th>Series or Movie</th>\n",
       "      <th>Hidden Gem Score</th>\n",
       "      <th>IMDb Score</th>\n",
       "      <th>Rotten Tomatoes Score</th>\n",
       "      <th>Metacritic Score</th>\n",
       "      <th>Awards Received</th>\n",
       "      <th>Awards Nominated For</th>\n",
       "      <th>Boxoffice</th>\n",
       "      <th>Netflix Release Date</th>\n",
       "      <th>IMDb Votes</th>\n",
       "      <th>binary_boxoffice</th>\n",
       "      <th>1-2 hour</th>\n",
       "      <th>30-60 mins</th>\n",
       "      <th>&lt; 30 minutes</th>\n",
       "      <th>&gt; 2 hrs</th>\n",
       "    </tr>\n",
       "  </thead>\n",
       "  <tbody>\n",
       "    <tr>\n",
       "      <th>0</th>\n",
       "      <td>Lets Fight Ghost</td>\n",
       "      <td>0</td>\n",
       "      <td>4.3</td>\n",
       "      <td>7.9</td>\n",
       "      <td>98.0</td>\n",
       "      <td>82.0</td>\n",
       "      <td>74.0</td>\n",
       "      <td>57.0</td>\n",
       "      <td>2122065.0</td>\n",
       "      <td>2021-03-04</td>\n",
       "      <td>205926.0</td>\n",
       "      <td>1</td>\n",
       "      <td>0</td>\n",
       "      <td>0</td>\n",
       "      <td>1</td>\n",
       "      <td>0</td>\n",
       "    </tr>\n",
       "    <tr>\n",
       "      <th>1</th>\n",
       "      <td>HOW TO BUILD A GIRL</td>\n",
       "      <td>1</td>\n",
       "      <td>7.0</td>\n",
       "      <td>5.8</td>\n",
       "      <td>79.0</td>\n",
       "      <td>69.0</td>\n",
       "      <td>1.0</td>\n",
       "      <td>5.0</td>\n",
       "      <td>70632.0</td>\n",
       "      <td>2021-03-04</td>\n",
       "      <td>2838.0</td>\n",
       "      <td>0</td>\n",
       "      <td>1</td>\n",
       "      <td>0</td>\n",
       "      <td>0</td>\n",
       "      <td>0</td>\n",
       "    </tr>\n",
       "    <tr>\n",
       "      <th>2</th>\n",
       "      <td>Centigrade</td>\n",
       "      <td>1</td>\n",
       "      <td>6.4</td>\n",
       "      <td>4.3</td>\n",
       "      <td>64.0</td>\n",
       "      <td>46.0</td>\n",
       "      <td>3.0</td>\n",
       "      <td>5.0</td>\n",
       "      <td>16263.0</td>\n",
       "      <td>2021-03-04</td>\n",
       "      <td>1720.0</td>\n",
       "      <td>0</td>\n",
       "      <td>1</td>\n",
       "      <td>0</td>\n",
       "      <td>0</td>\n",
       "      <td>0</td>\n",
       "    </tr>\n",
       "    <tr>\n",
       "      <th>3</th>\n",
       "      <td>ANNE+</td>\n",
       "      <td>0</td>\n",
       "      <td>7.7</td>\n",
       "      <td>6.5</td>\n",
       "      <td>64.0</td>\n",
       "      <td>57.0</td>\n",
       "      <td>1.0</td>\n",
       "      <td>5.0</td>\n",
       "      <td>19551067.0</td>\n",
       "      <td>2021-03-04</td>\n",
       "      <td>1147.0</td>\n",
       "      <td>0</td>\n",
       "      <td>0</td>\n",
       "      <td>0</td>\n",
       "      <td>1</td>\n",
       "      <td>0</td>\n",
       "    </tr>\n",
       "    <tr>\n",
       "      <th>4</th>\n",
       "      <td>Moxie</td>\n",
       "      <td>1</td>\n",
       "      <td>8.1</td>\n",
       "      <td>6.3</td>\n",
       "      <td>64.0</td>\n",
       "      <td>57.0</td>\n",
       "      <td>3.0</td>\n",
       "      <td>4.0</td>\n",
       "      <td>19551067.0</td>\n",
       "      <td>2021-03-04</td>\n",
       "      <td>63.0</td>\n",
       "      <td>0</td>\n",
       "      <td>1</td>\n",
       "      <td>0</td>\n",
       "      <td>0</td>\n",
       "      <td>0</td>\n",
       "    </tr>\n",
       "  </tbody>\n",
       "</table>\n",
       "</div>"
      ],
      "text/plain": [
       "                 Title  Series or Movie  Hidden Gem Score  IMDb Score  \\\n",
       "0     Lets Fight Ghost                0               4.3         7.9   \n",
       "1  HOW TO BUILD A GIRL                1               7.0         5.8   \n",
       "2           Centigrade                1               6.4         4.3   \n",
       "3                ANNE+                0               7.7         6.5   \n",
       "4                Moxie                1               8.1         6.3   \n",
       "\n",
       "   Rotten Tomatoes Score  Metacritic Score  Awards Received  \\\n",
       "0                   98.0              82.0             74.0   \n",
       "1                   79.0              69.0              1.0   \n",
       "2                   64.0              46.0              3.0   \n",
       "3                   64.0              57.0              1.0   \n",
       "4                   64.0              57.0              3.0   \n",
       "\n",
       "   Awards Nominated For   Boxoffice Netflix Release Date  IMDb Votes  \\\n",
       "0                  57.0   2122065.0           2021-03-04    205926.0   \n",
       "1                   5.0     70632.0           2021-03-04      2838.0   \n",
       "2                   5.0     16263.0           2021-03-04      1720.0   \n",
       "3                   5.0  19551067.0           2021-03-04      1147.0   \n",
       "4                   4.0  19551067.0           2021-03-04        63.0   \n",
       "\n",
       "   binary_boxoffice  1-2 hour  30-60 mins  < 30 minutes  > 2 hrs  \n",
       "0                 1         0           0             1        0  \n",
       "1                 0         1           0             0        0  \n",
       "2                 0         1           0             0        0  \n",
       "3                 0         0           0             1        0  \n",
       "4                 0         1           0             0        0  "
      ]
     },
     "execution_count": 17,
     "metadata": {},
     "output_type": "execute_result"
    }
   ],
   "source": [
    "data_new.head()"
   ]
  },
  {
   "cell_type": "markdown",
   "id": "194c0af7",
   "metadata": {},
   "source": [
    "Проведём нормализацию количественных признаков"
   ]
  },
  {
   "cell_type": "code",
   "execution_count": 18,
   "id": "5dd8d27f",
   "metadata": {},
   "outputs": [],
   "source": [
    "data_stand = (data_new - data_new.mean(axis = 0))/data_new.std(axis = 0)"
   ]
  },
  {
   "cell_type": "markdown",
   "id": "f995efea",
   "metadata": {},
   "source": [
    "## 4. Выбор тестовой и обучающей выборки"
   ]
  },
  {
   "cell_type": "code",
   "execution_count": 19,
   "id": "ddb13da3",
   "metadata": {},
   "outputs": [],
   "source": [
    "X = data_stand.drop(['IMDb Score', 'Netflix Release Date', 'Title', 'Boxoffice', 'binary_boxoffice'], axis=1)\n",
    "y = data_new['binary_boxoffice']"
   ]
  },
  {
   "cell_type": "code",
   "execution_count": 20,
   "id": "c72bc5c1",
   "metadata": {},
   "outputs": [
    {
     "name": "stdout",
     "output_type": "stream",
     "text": [
      "(15480, 11)\n",
      "(15480,)\n"
     ]
    }
   ],
   "source": [
    "print(X.shape)\n",
    "print(y.shape)"
   ]
  },
  {
   "cell_type": "markdown",
   "id": "340cf107",
   "metadata": {},
   "source": [
    "Разобьем данные на обучающую (66%) и тестовую (33%) выборки:"
   ]
  },
  {
   "cell_type": "code",
   "execution_count": 21,
   "id": "68299fd4",
   "metadata": {},
   "outputs": [
    {
     "data": {
      "text/plain": [
       "(10371, 5109)"
      ]
     },
     "execution_count": 21,
     "metadata": {},
     "output_type": "execute_result"
    }
   ],
   "source": [
    "from sklearn.model_selection import train_test_split\n",
    "X_train, X_test, y_train, y_test = train_test_split(X, y, test_size = 0.33, random_state = 42)\n",
    "\n",
    "N_train, _ = X_train.shape \n",
    "N_test,  _ = X_test.shape\n",
    "\n",
    "N_train, N_test"
   ]
  },
  {
   "cell_type": "markdown",
   "id": "c2848fb2",
   "metadata": {},
   "source": [
    "## 5. Подбор гиперпараметров"
   ]
  },
  {
   "cell_type": "markdown",
   "id": "2c4471eb",
   "metadata": {},
   "source": [
    "В качестве solver выберем наиболее эффективный алгоритм 'Адам'\n",
    "В качестве функции активации выберем 'Relu'\n",
    "В качеcтве метрики оценки классификатора возьмем обычный accuracy_score, поскольку у нас 2 класса и классы сбалансированы."
   ]
  },
  {
   "cell_type": "code",
   "execution_count": 22,
   "id": "a4012f49",
   "metadata": {},
   "outputs": [],
   "source": [
    "from sklearn.neural_network import MLPClassifier\n",
    "from sklearn.metrics import accuracy_score\n",
    "from tqdm import tqdm"
   ]
  },
  {
   "cell_type": "markdown",
   "id": "bc043af8",
   "metadata": {},
   "source": [
    "### 5.1 Подбор количества нейронов в однослойной сети"
   ]
  },
  {
   "cell_type": "code",
   "execution_count": 23,
   "id": "8a2e11b6",
   "metadata": {},
   "outputs": [
    {
     "name": "stderr",
     "output_type": "stream",
     "text": [
      "100%|██████████| 50/50 [03:17<00:00,  3.94s/it]\n"
     ]
    }
   ],
   "source": [
    "hidden_layer_size = np.linspace(1, 50, 50)\n",
    "hidden_layer_size = hidden_layer_size.astype(int)\n",
    "test_err, train_err = [], []\n",
    "train_acc, test_acc = [], []\n",
    "\n",
    "for size in tqdm(hidden_layer_size):\n",
    "    model = MLPClassifier(hidden_layer_sizes=(size,), \n",
    "                          solver='adam', activation='relu', max_iter=1000, random_state=42)\n",
    "    model.fit(X_train, y_train)\n",
    "\n",
    "    y_train_pred = model.predict(X_train)\n",
    "    y_test_pred = model.predict(X_test)\n",
    "    \n",
    "    train_err.append(np.mean(y_train != y_train_pred))\n",
    "    test_err.append(np.mean(y_test != y_test_pred))\n",
    "    \n",
    "    train_acc.append(accuracy_score(y_train, y_train_pred))\n",
    "    test_acc.append(accuracy_score(y_test, y_test_pred))"
   ]
  },
  {
   "cell_type": "code",
   "execution_count": 24,
   "id": "44a084c2",
   "metadata": {},
   "outputs": [
    {
     "data": {
      "text/plain": [
       "<matplotlib.legend.Legend at 0x1ba4fc57d60>"
      ]
     },
     "execution_count": 24,
     "metadata": {},
     "output_type": "execute_result"
    },
    {
     "data": {
      "image/png": "[encoded data removed]",
      "text/plain": [
       "<Figure size 432x288 with 1 Axes>"
      ]
     },
     "metadata": {
      "needs_background": "light"
     },
     "output_type": "display_data"
    }
   ],
   "source": [
    "plt.plot(hidden_layer_size, train_err, 'b-o', label = 'train')\n",
    "plt.plot(hidden_layer_size, test_err, 'r-o', label = 'test')\n",
    "plt.xlim([np.min(hidden_layer_size), np.max(hidden_layer_size)])\n",
    "plt.title('Error is as a function of hidden_layer_size')\n",
    "plt.xlabel('hidden_layer_size')\n",
    "plt.ylabel('error')\n",
    "plt.legend()"
   ]
  },
  {
   "cell_type": "code",
   "execution_count": 25,
   "id": "77dcf796",
   "metadata": {},
   "outputs": [
    {
     "name": "stdout",
     "output_type": "stream",
     "text": [
      "Train: Min error=0.055250216951113686, number of neurons=40\n",
      "Test: Min error=0.06087296926991583, number of neurons=41\n"
     ]
    }
   ],
   "source": [
    "print(\"Train: Min error={0}, number of neurons={1}\".format(np.min(train_err), hidden_layer_size[np.argmin(train_err)]))\n",
    "print(\"Test: Min error={0}, number of neurons={1}\".format(np.min(test_err), hidden_layer_size[np.argmin(test_err)]))"
   ]
  },
  {
   "cell_type": "code",
   "execution_count": 26,
   "id": "db0ef1c2",
   "metadata": {},
   "outputs": [
    {
     "data": {
      "text/plain": [
       "<matplotlib.legend.Legend at 0x1ba4fae0c40>"
      ]
     },
     "execution_count": 26,
     "metadata": {},
     "output_type": "execute_result"
    },
    {
     "data": {
      "image/png": "[encoded data removed]",
      "text/plain": [
       "<Figure size 432x288 with 1 Axes>"
      ]
     },
     "metadata": {
      "needs_background": "light"
     },
     "output_type": "display_data"
    }
   ],
   "source": [
    "plt.plot(hidden_layer_size, train_acc, 'r-o', label = 'train')\n",
    "plt.plot(hidden_layer_size, test_acc, 'b-o', label = 'test')\n",
    "plt.xlim([np.min(hidden_layer_size), np.max(hidden_layer_size)])\n",
    "plt.title('Accuracy is a function of hidden_layer_size')\n",
    "plt.xlabel('hidden_layer_size')\n",
    "plt.ylabel('Accuracy')\n",
    "plt.legend()"
   ]
  },
  {
   "cell_type": "code",
   "execution_count": 27,
   "id": "3a760c0c",
   "metadata": {},
   "outputs": [
    {
     "name": "stdout",
     "output_type": "stream",
     "text": [
      "Train: max accuracy=0.9447497830488863, number of neurons=40\n",
      "Test: max accuracy=0.9391270307300842, number of neurons=41\n"
     ]
    }
   ],
   "source": [
    "print(\"Train: max accuracy={0}, number of neurons={1}\".format(np.max(train_acc), hidden_layer_size[np.argmax(train_acc)]))\n",
    "print(\"Test: max accuracy={0}, number of neurons={1}\".format(np.max(test_acc), hidden_layer_size[np.argmax(test_acc)]))"
   ]
  },
  {
   "cell_type": "markdown",
   "id": "658dfa2e",
   "metadata": {},
   "source": [
    "### 5.2 Подбор количества нейронов в двуслойной сети"
   ]
  },
  {
   "cell_type": "code",
   "execution_count": 28,
   "id": "8db712b4",
   "metadata": {},
   "outputs": [
    {
     "name": "stderr",
     "output_type": "stream",
     "text": [
      "10it [11:34, 69.43s/it]\n"
     ]
    }
   ],
   "source": [
    "n = 10\n",
    "sizes = np.linspace(1, 50, n).astype(int)\n",
    "test_err = np.zeros((n, n))\n",
    "train_err = np.zeros((n, n))\n",
    "train_acc = np.zeros((n, n))\n",
    "test_acc = np.zeros((n, n))\n",
    "\n",
    "for i, size_1 in tqdm(enumerate(sizes)):\n",
    "    for j, size_2 in enumerate(sizes):\n",
    "        model = MLPClassifier(hidden_layer_sizes=(size_1, size_2, ), \n",
    "                              solver='adam', activation='relu', max_iter=1000, random_state=42)\n",
    "        model.fit(X_train, y_train)\n",
    "\n",
    "        y_train_pred = model.predict(X_train)\n",
    "        y_test_pred = model.predict(X_test)\n",
    "\n",
    "        train_err[i][j] = np.mean(y_train != y_train_pred)\n",
    "        test_err[i][j] = np.mean(y_test != y_test_pred)\n",
    "\n",
    "        train_acc[i][j] = accuracy_score(y_train, y_train_pred)\n",
    "        test_acc[i][j] = accuracy_score(y_test, y_test_pred)"
   ]
  },
  {
   "cell_type": "code",
   "execution_count": 29,
   "id": "08b0db3c",
   "metadata": {},
   "outputs": [
    {
     "data": {
      "image/png": "[encoded data removed]",
      "text/plain": [
       "<Figure size 432x288 with 3 Axes>"
      ]
     },
     "metadata": {
      "needs_background": "light"
     },
     "output_type": "display_data"
    }
   ],
   "source": [
    "plt.subplot(121)\n",
    "plt.title(\"Train error\")\n",
    "plt.imshow(train_err)\n",
    "plt.xticks(np.arange(n), np.arange(1, 50, 50 / n))\n",
    "plt.yticks(np.arange(n), np.arange(1, 50, 50 / n))\n",
    "\n",
    "plt.subplot(122)\n",
    "plt.title(\"Test error\")\n",
    "plt.imshow(test_err)\n",
    "plt.xticks(np.arange(n), np.arange(1, 50, 50 / n))\n",
    "plt.yticks(np.arange(n), np.arange(1, 50, 50 / n))\n",
    "\n",
    "cax = plt.axes([0.96, 0.15, 0.02, 0.7])\n",
    "plt.colorbar(cax=cax)\n",
    "\n",
    "train_min_loss = np.where(train_err == np.min(train_err))\n",
    "test_min_loss = np.where(test_err == np.min(test_err))\n",
    "\n",
    "train_min_loss_sizes = [train_min_loss[0][0] * 5, train_min_loss[1][0] * 5]\n",
    "test_min_loss_sizes = [test_min_loss[0][0] * 5, test_min_loss[1][0] * 5]"
   ]
  },
  {
   "cell_type": "code",
   "execution_count": 30,
   "id": "18e2a383",
   "metadata": {},
   "outputs": [
    {
     "name": "stdout",
     "output_type": "stream",
     "text": [
      "Train: Min error=0.045993636100665314, number of neurons=30,40\n",
      "Test: error=0.061264435310236835, number of neurons=30,40\n",
      "\n",
      "Test: Min error=0.059307105108631825, number of neurons=10,40\n",
      "Train: error=0.0581428984668788, number of neurons=10,40\n",
      "\n"
     ]
    }
   ],
   "source": [
    "print(\"Train: Min error={0}, number of neurons={1},{2}\".format(np.min(train_err), train_min_loss_sizes[0], train_min_loss_sizes[1]))\n",
    "print(\"Test: error={0}, number of neurons={1},{2}\\n\".format(test_err[train_min_loss][0], train_min_loss_sizes[0], train_min_loss_sizes[1]))\n",
    "print(\"Test: Min error={0}, number of neurons={1},{2}\".format(np.min(test_err), test_min_loss_sizes[0], test_min_loss_sizes[1]))\n",
    "print(\"Train: error={0}, number of neurons={1},{2}\\n\".format(train_err[test_min_loss][0], test_min_loss_sizes[0], test_min_loss_sizes[1]))"
   ]
  },
  {
   "cell_type": "code",
   "execution_count": 31,
   "id": "badce4be",
   "metadata": {},
   "outputs": [
    {
     "data": {
      "image/png": "[encoded data removed]",
      "text/plain": [
       "<Figure size 432x288 with 3 Axes>"
      ]
     },
     "metadata": {
      "needs_background": "light"
     },
     "output_type": "display_data"
    }
   ],
   "source": [
    "plt.subplot(121)\n",
    "plt.title(\"Train accuracy\")\n",
    "plt.imshow(train_acc)\n",
    "plt.xticks(np.arange(n), np.arange(1, 50, 50 / n))\n",
    "plt.yticks(np.arange(n), np.arange(1, 50, 50 / n))\n",
    "\n",
    "plt.subplot(122)\n",
    "plt.title(\"Test accuracy\")\n",
    "plt.imshow(test_acc)\n",
    "plt.xticks(np.arange(n), np.arange(1, 50, 50 / n))\n",
    "plt.yticks(np.arange(n), np.arange(1, 50, 50 / n))\n",
    "\n",
    "cax = plt.axes([0.95, 0.15, 0.02, 0.7])\n",
    "plt.colorbar(cax=cax)\n",
    "\n",
    "train_max_acc = np.where(train_acc == np.max(train_acc))\n",
    "test_max_acc = np.where(test_acc == np.max(test_acc))\n",
    "\n",
    "train_max_acc_sizes = [train_max_acc[0][0] * 5, train_max_acc[1][0] * 5]\n",
    "test_max_acc_sizes = [test_max_acc[0][0] * 5, test_max_acc[1][0] * 5]"
   ]
  },
  {
   "cell_type": "code",
   "execution_count": 32,
   "id": "13d14e7f",
   "metadata": {},
   "outputs": [
    {
     "name": "stdout",
     "output_type": "stream",
     "text": [
      "Train: Max accuracy=0.9540063638993347, number of neurons=30,40\n",
      "Test: accuracy=0.9387355646897632, number of neurons=30,40\n",
      "\n",
      "Test: Max accuracy=0.9406928948913682, number of neurons=10,40\n",
      "Train: accuracy=0.9418571015331212, number of neurons=10,40\n",
      "\n"
     ]
    }
   ],
   "source": [
    "print(\"Train: Max accuracy={0}, number of neurons={1},{2}\".format(np.max(train_acc), train_max_acc_sizes[0], train_max_acc_sizes[1]))\n",
    "print(\"Test: accuracy={0}, number of neurons={1},{2}\\n\".format(test_acc[train_max_acc][0], train_max_acc_sizes[0], train_max_acc_sizes[1]))\n",
    "print(\"Test: Max accuracy={0}, number of neurons={1},{2}\".format(np.max(test_acc), test_max_acc_sizes[0], test_max_acc_sizes[1]))\n",
    "print(\"Train: accuracy={0}, number of neurons={1},{2}\\n\".format(train_acc[test_max_acc][0], test_max_acc_sizes[0], test_max_acc_sizes[1]))"
   ]
  },
  {
   "cell_type": "markdown",
   "id": "e1f93714",
   "metadata": {},
   "source": [
    "### 5.3 Подбор параметра регуляризации"
   ]
  },
  {
   "cell_type": "markdown",
   "id": "08e968ce",
   "metadata": {},
   "source": [
    "Лучшие показатели подемонстрировала сеть из 2-ух слоев (точность на тестовой и обучающей выборке у неё выше). Самая оптимальная точность достигается при количесте нейронов (30,40). Будем подбирать параметры alpha для сети из 2-ух слоёв."
   ]
  },
  {
   "cell_type": "code",
   "execution_count": 43,
   "id": "0a9d454a",
   "metadata": {},
   "outputs": [
    {
     "name": "stderr",
     "output_type": "stream",
     "text": [
      "100%|██████████| 50/50 [03:24<00:00,  4.09s/it]\n"
     ]
    }
   ],
   "source": [
    "alpha_arr = np.logspace(-3, 2, 50)\n",
    "test_err = []\n",
    "train_err = []\n",
    "train_acc = []\n",
    "test_acc = []\n",
    "\n",
    "for alpha in tqdm(alpha_arr):\n",
    "    mlp_model = MLPClassifier(alpha=alpha, hidden_layer_sizes=(30,40),\n",
    "                              solver='adam', activation='relu', max_iter=1000, random_state=42)\n",
    "    mlp_model.fit(X_train, y_train)\n",
    "\n",
    "    y_train_pred = mlp_model.predict(X_train)\n",
    "    y_test_pred = mlp_model.predict(X_test)\n",
    "\n",
    "    train_err.append(np.mean(y_train != y_train_pred))\n",
    "    test_err.append(np.mean(y_test != y_test_pred))\n",
    "    train_acc.append(accuracy_score(y_train, y_train_pred))\n",
    "    test_acc.append(accuracy_score(y_test, y_test_pred))"
   ]
  },
  {
   "cell_type": "code",
   "execution_count": 44,
   "id": "b06f08ca",
   "metadata": {},
   "outputs": [
    {
     "data": {
      "text/plain": [
       "<matplotlib.legend.Legend at 0x1ba51259f70>"
      ]
     },
     "execution_count": 44,
     "metadata": {},
     "output_type": "execute_result"
    },
    {
     "data": {
      "image/png": "[encoded data removed]",
      "text/plain": [
       "<Figure size 432x288 with 1 Axes>"
      ]
     },
     "metadata": {
      "needs_background": "light"
     },
     "output_type": "display_data"
    }
   ],
   "source": [
    "plt.semilogx(alpha_arr, train_err, 'b-o', label = 'train')\n",
    "plt.semilogx(alpha_arr, test_err, 'r-o', label = 'test')\n",
    "plt.xlim([np.min(alpha_arr), np.max(alpha_arr)])\n",
    "plt.title('Error vs. alpha')\n",
    "plt.xlabel('alpha')\n",
    "plt.ylabel('error')\n",
    "plt.legend()"
   ]
  },
  {
   "cell_type": "code",
   "execution_count": 45,
   "id": "cbbeabfe",
   "metadata": {},
   "outputs": [
    {
     "data": {
      "text/plain": [
       "<matplotlib.legend.Legend at 0x1ba513b6790>"
      ]
     },
     "execution_count": 45,
     "metadata": {},
     "output_type": "execute_result"
    },
    {
     "data": {
      "image/png": "[encoded data removed]",
      "text/plain": [
       "<Figure size 432x288 with 1 Axes>"
      ]
     },
     "metadata": {
      "needs_background": "light"
     },
     "output_type": "display_data"
    }
   ],
   "source": [
    "plt.semilogx(alpha_arr, train_acc, 'b-o', label = 'train')\n",
    "plt.semilogx(alpha_arr, test_acc, 'r-o', label = 'test')\n",
    "plt.xlim([np.min(alpha_arr), np.max(alpha_arr)])\n",
    "plt.title('Accuracy vs. alpha')\n",
    "plt.xlabel('alpha')\n",
    "plt.ylabel('Accuracy')\n",
    "plt.legend()"
   ]
  },
  {
   "cell_type": "markdown",
   "id": "eeeb8130",
   "metadata": {},
   "source": [
    "Проделаем тоже самое для 10 нейронов"
   ]
  },
  {
   "cell_type": "code",
   "execution_count": 46,
   "id": "051b9ed6",
   "metadata": {},
   "outputs": [
    {
     "name": "stderr",
     "output_type": "stream",
     "text": [
      "100%|██████████| 50/50 [01:47<00:00,  2.15s/it]\n"
     ]
    }
   ],
   "source": [
    "alpha_arr2 = np.logspace(-3, 2, 50)\n",
    "test_err2 = []\n",
    "train_err2 = []\n",
    "train_acc2 = []\n",
    "test_acc2 = []\n",
    "\n",
    "for alpha in tqdm(alpha_arr2):\n",
    "    mlp_model = MLPClassifier(alpha=alpha, hidden_layer_sizes=(10,),\n",
    "                              solver='adam', activation='relu', max_iter=1000, random_state=42)\n",
    "    mlp_model.fit(X_train, y_train)\n",
    "\n",
    "    y_train_pred = mlp_model.predict(X_train)\n",
    "    y_test_pred = mlp_model.predict(X_test)\n",
    "\n",
    "    train_err2.append(np.mean(y_train != y_train_pred))\n",
    "    test_err2.append(np.mean(y_test != y_test_pred))\n",
    "    train_acc2.append(accuracy_score(y_train, y_train_pred))\n",
    "    test_acc2.append(accuracy_score(y_test, y_test_pred))"
   ]
  },
  {
   "cell_type": "code",
   "execution_count": 47,
   "id": "01ea1214",
   "metadata": {},
   "outputs": [
    {
     "data": {
      "text/plain": [
       "<matplotlib.legend.Legend at 0x1ba514d9790>"
      ]
     },
     "execution_count": 47,
     "metadata": {},
     "output_type": "execute_result"
    },
    {
     "data": {
      "image/png": "[encoded data removed]",
      "text/plain": [
       "<Figure size 432x288 with 1 Axes>"
      ]
     },
     "metadata": {
      "needs_background": "light"
     },
     "output_type": "display_data"
    }
   ],
   "source": [
    "plt.semilogx(alpha_arr2, train_err2, 'b-o', label = 'train')\n",
    "plt.semilogx(alpha_arr2, test_err2, 'r-o', label = 'test')\n",
    "plt.xlim([np.min(alpha_arr2), np.max(alpha_arr2)])\n",
    "plt.title('Error vs. alpha')\n",
    "plt.xlabel('alpha')\n",
    "plt.ylabel('error')\n",
    "plt.legend()"
   ]
  },
  {
   "cell_type": "code",
   "execution_count": 48,
   "id": "a6fe398a",
   "metadata": {},
   "outputs": [
    {
     "data": {
      "text/plain": [
       "<matplotlib.legend.Legend at 0x1ba516d3a00>"
      ]
     },
     "execution_count": 48,
     "metadata": {},
     "output_type": "execute_result"
    },
    {
     "data": {
      "image/png": "[encoded data removed]",
      "text/plain": [
       "<Figure size 432x288 with 1 Axes>"
      ]
     },
     "metadata": {
      "needs_background": "light"
     },
     "output_type": "display_data"
    }
   ],
   "source": [
    "plt.semilogx(alpha_arr2, train_acc2, 'b-o', label = 'train')\n",
    "plt.semilogx(alpha_arr2, test_acc2, 'r-o', label = 'test')\n",
    "plt.xlim([np.min(alpha_arr2), np.max(alpha_arr2)])\n",
    "plt.title('Accuracy vs. alpha')\n",
    "plt.xlabel('alpha')\n",
    "plt.ylabel('Accuracy')\n",
    "plt.legend()"
   ]
  },
  {
   "cell_type": "markdown",
   "id": "c91b2525",
   "metadata": {},
   "source": [
    "Из графиков видно, что при небольших значениях параметра регуляризации (когда alpha < 10), наблюдается высокая точность, но при alpha > 10 происходит резкое понижение точности, то есть наблюдается недообучение.  \n",
    "Также из графиков 1 и 2 теста заметно, что результаты тестовой выборки приближены к результатам тренировочной, но всё-таки можно выделить оптимальное значение alpha = [1,5]  \n",
    "В таком случае точность и на тестовой, и на обучающей выборке почти совпадает, и самое главное, что точность остаётся хоть и не на максимальном уровне (как при очень маленьких alpha), но всё также на очень высоком."
   ]
  },
  {
   "cell_type": "markdown",
   "id": "729a4ab1",
   "metadata": {},
   "source": [
    "Возьмём в качестве оптимального значения alpha = 5"
   ]
  },
  {
   "cell_type": "code",
   "execution_count": 49,
   "id": "d781f71e",
   "metadata": {},
   "outputs": [
    {
     "name": "stdout",
     "output_type": "stream",
     "text": [
      "Alpha opt: 5\n"
     ]
    }
   ],
   "source": [
    "alpha_opt = 5\n",
    "print(\"Alpha opt:\", alpha_opt)"
   ]
  },
  {
   "cell_type": "markdown",
   "id": "12cf245a",
   "metadata": {},
   "source": [
    "### 5.4 Классификатор при найденном оптимальном значении alpha:"
   ]
  },
  {
   "cell_type": "code",
   "execution_count": 50,
   "id": "e294dadb",
   "metadata": {},
   "outputs": [],
   "source": [
    "mlp_model = MLPClassifier(alpha=alpha_opt, hidden_layer_sizes=(20,),\n",
    "                          solver='adam', activation='relu', random_state=42)\n",
    "mlp_model.fit(X_train, y_train)\n",
    "\n",
    "y_train_pred = mlp_model.predict(X_train)\n",
    "y_test_pred = mlp_model.predict(X_test)"
   ]
  },
  {
   "cell_type": "markdown",
   "id": "4ab028bb",
   "metadata": {},
   "source": [
    "### 5.5 Матрица рассогласования:"
   ]
  },
  {
   "cell_type": "code",
   "execution_count": 51,
   "id": "193734dc",
   "metadata": {},
   "outputs": [
    {
     "name": "stdout",
     "output_type": "stream",
     "text": [
      "[[3956  183]\n",
      " [ 187  783]]\n"
     ]
    }
   ],
   "source": [
    "print(confusion_matrix(y_test_pred, y_test))"
   ]
  },
  {
   "cell_type": "code",
   "execution_count": 52,
   "id": "7319216a",
   "metadata": {},
   "outputs": [
    {
     "data": {
      "image/png": "[encoded data removed]",
      "text/plain": [
       "<Figure size 432x288 with 2 Axes>"
      ]
     },
     "metadata": {
      "needs_background": "light"
     },
     "output_type": "display_data"
    }
   ],
   "source": [
    "predictions = mlp_model.predict(X_test)\n",
    "cm = confusion_matrix(y_test, predictions, labels=mlp_model.classes_)\n",
    "disp = ConfusionMatrixDisplay(confusion_matrix=cm, display_labels=mlp_model.classes_)\n",
    "disp.plot()\n",
    "plt.show()"
   ]
  },
  {
   "cell_type": "markdown",
   "id": "d0ead696",
   "metadata": {},
   "source": [
    "## 6. Выводы"
   ]
  },
  {
   "cell_type": "markdown",
   "id": "bbf861d3",
   "metadata": {},
   "source": [
    "### 6.1 Подбор числа нейронов в однослойной моделе  \n",
    "1) Графики Error и Accuracy для train и test почти зеркальны, что говорит об почти одинаковом распределении тренировочных и тестовых данных.  \n",
    "2) Наблюдается переобучение. Результаты точности тренировной выборки оказались выше примерно на 1%, чем у тестовой. Это говорит об умении модели обучаться.  \n",
    "3) За оптимальный размер скрытого слоя возьмём минимум ошибки и максимум точности на тестовой выборке 93.9% - 41 нейрон.  \n",
    "4) При количестве нейровнов в слое больше 2 уже достигается точность выше 93%. Это говорит о том, что все входные объекты могут быть спроецированы в двумерное пространство и разделены на классы с высокой точностью 93%.  \n",
    "### 6.2 Подбор числа нейронов в двуслойной моделе  \n",
    "1) Наблюдается недообучение тренировочной выборки на 1%, по сравнению с тестовой (это видно из графиков, на тестовой выборке преобладает жёлтоватый цвет, в то время как на тренировочной зеленоватый)  \n",
    "2) За оптимальные  размеры скрытых слоёв возьмём минимум ошибки и максимум точности на тестовой выборке 95% - 30 и 10 нейронов  \n",
    "### 6.3) Подбор параметра регуляризации  \n",
    "Как уже было замечено выше, с ростом коэффициента регуляризации растёт ошибка и соответственно снижается точность. Это говорит о том, что после обучения у модели не возникает больших значений весовых коэффициентов, а значит нет переобучения у модели. При alpha > 10e-1 начинается рост ошибки и снижение точности, то есть с ростом alpha веса модели уменьшаются и стремятся к нулю."
   ]
  }
 ],
 "metadata": {
  "kernelspec": {
   "display_name": "Python 3",
   "language": "python",
   "name": "python3"
  },
  "language_info": {
   "codemirror_mode": {
    "name": "ipython",
    "version": 3
   },
   "file_extension": ".py",
   "mimetype": "text/x-python",
   "name": "python",
   "nbconvert_exporter": "python",
   "pygments_lexer": "ipython3",
   "version": "3.8.8"
  }
 },
 "nbformat": 4,
 "nbformat_minor": 5
}
